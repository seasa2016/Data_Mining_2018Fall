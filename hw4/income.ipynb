{
 "cells": [
  {
   "cell_type": "code",
   "execution_count": 1,
   "metadata": {},
   "outputs": [],
   "source": [
    "import sklearn\n",
    "import numpy as np\n",
    "import pandas as pd\n",
    "from sklearn.model_selection import train_test_split"
   ]
  },
  {
   "cell_type": "code",
   "execution_count": 2,
   "metadata": {},
   "outputs": [],
   "source": [
    "data = pd.read_csv('./income/income_train.csv',header=None)"
   ]
  },
  {
   "cell_type": "code",
   "execution_count": 3,
   "metadata": {},
   "outputs": [
    {
     "data": {
      "text/html": [
       "<div>\n",
       "<style scoped>\n",
       "    .dataframe tbody tr th:only-of-type {\n",
       "        vertical-align: middle;\n",
       "    }\n",
       "\n",
       "    .dataframe tbody tr th {\n",
       "        vertical-align: top;\n",
       "    }\n",
       "\n",
       "    .dataframe thead th {\n",
       "        text-align: right;\n",
       "    }\n",
       "</style>\n",
       "<table border=\"1\" class=\"dataframe\">\n",
       "  <thead>\n",
       "    <tr style=\"text-align: right;\">\n",
       "      <th></th>\n",
       "      <th>0</th>\n",
       "      <th>1</th>\n",
       "      <th>2</th>\n",
       "      <th>3</th>\n",
       "      <th>4</th>\n",
       "      <th>5</th>\n",
       "      <th>6</th>\n",
       "      <th>7</th>\n",
       "      <th>8</th>\n",
       "      <th>9</th>\n",
       "      <th>10</th>\n",
       "      <th>11</th>\n",
       "      <th>12</th>\n",
       "      <th>13</th>\n",
       "      <th>14</th>\n",
       "    </tr>\n",
       "  </thead>\n",
       "  <tbody>\n",
       "    <tr>\n",
       "      <th>0</th>\n",
       "      <td>60</td>\n",
       "      <td>State-gov</td>\n",
       "      <td>129447.0</td>\n",
       "      <td>HS-grad</td>\n",
       "      <td>9</td>\n",
       "      <td>Widowed</td>\n",
       "      <td>Adm-clerical</td>\n",
       "      <td>Not-in-family</td>\n",
       "      <td>White</td>\n",
       "      <td>Female</td>\n",
       "      <td>0</td>\n",
       "      <td>0</td>\n",
       "      <td>35</td>\n",
       "      <td>United-States</td>\n",
       "      <td>0</td>\n",
       "    </tr>\n",
       "    <tr>\n",
       "      <th>1</th>\n",
       "      <td>38</td>\n",
       "      <td>Self-emp-not-inc</td>\n",
       "      <td>267556.0</td>\n",
       "      <td>HS-grad</td>\n",
       "      <td>9</td>\n",
       "      <td>Married-civ-spouse</td>\n",
       "      <td>Sales</td>\n",
       "      <td>Husband</td>\n",
       "      <td>White</td>\n",
       "      <td>Male</td>\n",
       "      <td>0</td>\n",
       "      <td>0</td>\n",
       "      <td>64</td>\n",
       "      <td>United-States</td>\n",
       "      <td>0</td>\n",
       "    </tr>\n",
       "  </tbody>\n",
       "</table>\n",
       "</div>"
      ],
      "text/plain": [
       "   0                  1         2         3   4                    5   \\\n",
       "0  60          State-gov  129447.0   HS-grad   9              Widowed   \n",
       "1  38   Self-emp-not-inc  267556.0   HS-grad   9   Married-civ-spouse   \n",
       "\n",
       "              6               7       8        9   10  11  12              13  \\\n",
       "0   Adm-clerical   Not-in-family   White   Female   0   0  35   United-States   \n",
       "1          Sales         Husband   White     Male   0   0  64   United-States   \n",
       "\n",
       "   14  \n",
       "0   0  \n",
       "1   0  "
      ]
     },
     "execution_count": 3,
     "metadata": {},
     "output_type": "execute_result"
    }
   ],
   "source": [
    "data.head(2)"
   ]
  },
  {
   "cell_type": "code",
   "execution_count": 4,
   "metadata": {},
   "outputs": [
    {
     "data": {
      "text/plain": [
       "0    24735\n",
       "1     7827\n",
       "Name: 14, dtype: int64"
      ]
     },
     "execution_count": 4,
     "metadata": {},
     "output_type": "execute_result"
    }
   ],
   "source": [
    "data[14].value_counts()"
   ]
  },
  {
   "cell_type": "code",
   "execution_count": 5,
   "metadata": {},
   "outputs": [],
   "source": [
    "for idx in [1,3,5,6,7,8,9,13]:    \n",
    "    m = data[idx].value_counts().index[0]\n",
    "    data[idx] = data[idx].apply(lambda x: m if('?' in x) else x)\n",
    "    "
   ]
  },
  {
   "cell_type": "code",
   "execution_count": 6,
   "metadata": {},
   "outputs": [],
   "source": [
    "training_data,training_label = data[ (list(range(14)))].values,data[(14)].values.astype(np.int)\n",
    "temp = training_data.copy()"
   ]
  },
  {
   "cell_type": "code",
   "execution_count": 7,
   "metadata": {},
   "outputs": [
    {
     "data": {
      "text/plain": [
       "(32562, 14)"
      ]
     },
     "execution_count": 7,
     "metadata": {},
     "output_type": "execute_result"
    }
   ],
   "source": [
    "training_data.shape"
   ]
  },
  {
   "cell_type": "code",
   "execution_count": 8,
   "metadata": {},
   "outputs": [],
   "source": [
    "name = [\n",
    "[],\n",
    "['Private', 'Self-emp-not-inc', 'Self-emp-inc', 'Federal-gov', 'Local-gov', 'State-gov', 'Without-pay', 'Never-worked'],\n",
    "[],\n",
    "['Bachelors', 'Some-college', '11th', 'HS-grad', 'Prof-school', 'Assoc-acdm', 'Assoc-voc', '9th', '7th-8th', '12th', 'Masters', '1st-4th', '10th', 'Doctorate', '5th-6th', 'Preschool'],\n",
    "[],\n",
    "['Married-civ-spouse', 'Divorced', 'Never-married', 'Separated', 'Widowed', 'Married-spouse-absent', 'Married-AF-spouse'],\n",
    "['Tech-support', 'Craft-repair', 'Other-service', 'Sales', 'Exec-managerial', 'Prof-specialty', 'Handlers-cleaners', 'Machine-op-inspct', 'Adm-clerical', 'Farming-fishing', 'Transport-moving', 'Priv-house-serv', 'Protective-serv', 'Armed-Forces'],\n",
    "['Wife', 'Own-child', 'Husband', 'Not-in-family', 'Other-relative', 'Unmarried'],\n",
    "['White', 'Asian-Pac-Islander', 'Amer-Indian-Eskimo', 'Other', 'Black'],\n",
    "['Female', 'Male'],\n",
    "[],\n",
    "[],\n",
    "[],   \n",
    "['United-States', 'Cambodia', 'England', 'Puerto-Rico', 'Canada', 'Germany', 'Outlying-US(Guam-USVI-etc)', 'India', 'Japan', 'Greece', 'South', 'China', 'Cuba', 'Iran', 'Honduras', 'Philippines', 'Italy', 'Poland', 'Jamaica', 'Vietnam', 'Mexico', 'Portugal', 'Ireland', 'France', 'Dominican-Republic', 'Laos', 'Ecuador', 'Taiwan', 'Haiti', 'Columbia', 'Hungary', 'Guatemala', 'Nicaragua', 'Scotland', 'Thailand', 'Yugoslavia', 'El-Salvador', 'Trinadad&Tobago', 'Peru', 'Hong', 'Holand-Netherlands']\n",
    "]\n",
    "\n",
    "mapping = {}\n",
    "for i in range(len(name)):\n",
    "    for t in name[i]:\n",
    "        mapping['{0}_ {1}'.format(i,t)] = len(mapping)"
   ]
  },
  {
   "cell_type": "code",
   "execution_count": 9,
   "metadata": {},
   "outputs": [],
   "source": [
    "temp = np.zeros((training_data.shape[0],len(mapping)+6))\n",
    "\n",
    "now = len(mapping)\n",
    "for j in range(training_data.shape[1]):\n",
    "    if(name[j] == []):\n",
    "        for i in range(training_data.shape[0]):\n",
    "            temp[i][now] = training_data[i][j]\n",
    "        now += 1\n",
    "    else:\n",
    "        for i in range(training_data.shape[0]):\n",
    "            idx = '{0}_{1}'.format(j,training_data[i][j])\n",
    "            temp[i][mapping[idx]] = 1"
   ]
  },
  {
   "cell_type": "code",
   "execution_count": 10,
   "metadata": {},
   "outputs": [
    {
     "data": {
      "text/plain": [
       "(32562, 105)"
      ]
     },
     "execution_count": 10,
     "metadata": {},
     "output_type": "execute_result"
    }
   ],
   "source": [
    "temp.shape"
   ]
  },
  {
   "cell_type": "code",
   "execution_count": 11,
   "metadata": {},
   "outputs": [],
   "source": [
    "def norm(x,y):\n",
    "    mean = x.mean(axis=0)\n",
    "    std = x.std(axis=0)+1e-8\n",
    "    \n",
    "    return (x-mean)/std,(y-mean)/std,mean,std"
   ]
  },
  {
   "cell_type": "code",
   "execution_count": 12,
   "metadata": {},
   "outputs": [],
   "source": [
    "X_train, X_test, y_train, y_test = train_test_split(temp, training_label, test_size=0.2, random_state=42)"
   ]
  },
  {
   "cell_type": "code",
   "execution_count": 13,
   "metadata": {},
   "outputs": [],
   "source": [
    "X_train_ori, X_test_ori, y_train, y_test = train_test_split(temp, training_label, test_size=0.2, random_state=42)"
   ]
  },
  {
   "cell_type": "code",
   "execution_count": 14,
   "metadata": {},
   "outputs": [],
   "source": [
    "X_train, X_test,mean,std = norm(X_train, X_test)"
   ]
  },
  {
   "cell_type": "code",
   "execution_count": 15,
   "metadata": {},
   "outputs": [],
   "source": [
    "prior = [24735/(24735+7827),7827/(24735+7827)]"
   ]
  },
  {
   "cell_type": "code",
   "execution_count": 16,
   "metadata": {},
   "outputs": [
    {
     "name": "stdout",
     "output_type": "stream",
     "text": [
      "error rate 0.4521725779210809\n"
     ]
    }
   ],
   "source": [
    "from sklearn.naive_bayes import GaussianNB\n",
    "gnb = GaussianNB(priors=prior)\n",
    "y_pred = gnb.fit(X_train, y_train).predict(X_test)\n",
    "print(\"error rate {0}\".format(1-(y_test != y_pred).sum()/y_test.shape[0] ))"
   ]
  },
  {
   "cell_type": "code",
   "execution_count": 17,
   "metadata": {},
   "outputs": [
    {
     "name": "stdout",
     "output_type": "stream",
     "text": [
      "error rate 0.780439121756487\n"
     ]
    }
   ],
   "source": [
    "from sklearn.naive_bayes import MultinomialNB\n",
    "mnb = MultinomialNB(class_prior=prior)\n",
    "y_pred = mnb.fit(X_train_ori, y_train).predict(X_test_ori)\n",
    "print(\"error rate {0}\".format(1-(y_test != y_pred).sum()/y_test.shape[0] ))\n",
    "\n"
   ]
  },
  {
   "cell_type": "code",
   "execution_count": 18,
   "metadata": {},
   "outputs": [
    {
     "name": "stdout",
     "output_type": "stream",
     "text": [
      "error rate 0.780439121756487\n"
     ]
    }
   ],
   "source": [
    "from sklearn.naive_bayes import ComplementNB\n",
    "cnb = ComplementNB(class_prior=prior)\n",
    "y_pred = cnb.fit(X_train_ori, y_train).predict(X_test_ori)\n",
    "print(\"error rate {0}\".format(1-(y_test != y_pred).sum()/y_test.shape[0] ))\n",
    "\n"
   ]
  },
  {
   "cell_type": "code",
   "execution_count": 19,
   "metadata": {},
   "outputs": [
    {
     "name": "stdout",
     "output_type": "stream",
     "text": [
      "error rate 0.7764471057884231\n"
     ]
    }
   ],
   "source": [
    "from sklearn.naive_bayes import BernoulliNB\n",
    "bnb = BernoulliNB(class_prior=prior)\n",
    "y_pred = bnb.fit(X_train, y_train).predict(X_test)\n",
    "print(\"error rate {0}\".format(1-(y_test != y_pred).sum()/y_test.shape[0] ))\n",
    "\n"
   ]
  },
  {
   "cell_type": "code",
   "execution_count": 20,
   "metadata": {},
   "outputs": [
    {
     "name": "stdout",
     "output_type": "stream",
     "text": [
      "error rate 0.869361587776882\n",
      "error rate 0.8588975894365116\n"
     ]
    }
   ],
   "source": [
    "from sklearn import tree\n",
    "t = tree.DecisionTreeClassifier(criterion='gini', max_depth=100, min_samples_split=3,\n",
    "                                  min_samples_leaf =10, min_weight_fraction_leaf=0.0, max_features=None, \n",
    "                                  random_state=None, max_leaf_nodes=100,class_weight=None)\n",
    "\n",
    "y_pred = t.fit(X_train, y_train).predict(X_train)\n",
    "print(\"error rate {0}\".format(1-(y_train != y_pred).sum()/y_pred.shape[0] ))\n",
    "y_pred = t.fit(X_train, y_train).predict(X_test)\n",
    "print(\"error rate {0}\".format(1-(y_test != y_pred).sum()/y_test.shape[0] ))"
   ]
  },
  {
   "cell_type": "code",
   "execution_count": 21,
   "metadata": {},
   "outputs": [
    {
     "name": "stdout",
     "output_type": "stream",
     "text": [
      "error rate 0.8778839878690161\n",
      "error rate 0.8570551205281745\n"
     ]
    }
   ],
   "source": [
    "from sklearn import tree\n",
    "t = tree.DecisionTreeClassifier(criterion='gini', max_depth=80, min_samples_split=10,\n",
    "                                  min_samples_leaf =6,min_weight_fraction_leaf=0.0, \n",
    "                                  random_state=None, max_leaf_nodes=200,class_weight=None)\n",
    "\n",
    "y_pred = t.fit(X_train, y_train).predict(X_train)\n",
    "print(\"error rate {0}\".format(1-(y_train != y_pred).sum()/y_pred.shape[0] ))\n",
    "y_pred = t.fit(X_train, y_train).predict(X_test)\n",
    "print(\"error rate {0}\".format(1-(y_test != y_pred).sum()/y_test.shape[0] ))"
   ]
  },
  {
   "cell_type": "code",
   "execution_count": 22,
   "metadata": {},
   "outputs": [
    {
     "name": "stdout",
     "output_type": "stream",
     "text": [
      "error rate 0.8713578256363008\n",
      "error rate 0.8550591125441425\n"
     ]
    }
   ],
   "source": [
    "from sklearn import tree\n",
    "t = tree.DecisionTreeClassifier(criterion='gini', max_depth=80, min_samples_split=20,\n",
    "                                  min_samples_leaf =20,min_weight_fraction_leaf=0.0, \n",
    "                                  random_state=None, max_leaf_nodes=200,class_weight=None)\n",
    "\n",
    "y_pred = t.fit(X_train, y_train).predict(X_train)\n",
    "print(\"error rate {0}\".format(1-(y_train != y_pred).sum()/y_pred.shape[0] ))\n",
    "y_pred = t.fit(X_train, y_train).predict(X_test)\n",
    "print(\"error rate {0}\".format(1-(y_test != y_pred).sum()/y_test.shape[0] ))"
   ]
  },
  {
   "cell_type": "code",
   "execution_count": 23,
   "metadata": {},
   "outputs": [
    {
     "data": {
      "text/plain": [
       "array([0, 0, 0, ..., 1, 0, 0])"
      ]
     },
     "execution_count": 23,
     "metadata": {},
     "output_type": "execute_result"
    }
   ],
   "source": [
    "y_pred"
   ]
  },
  {
   "cell_type": "code",
   "execution_count": 24,
   "metadata": {},
   "outputs": [],
   "source": [
    "data = pd.read_csv('./income/income_test.csv',header=None)\n",
    "testing_data = data[ (list(range(14)))].values\n",
    "\n",
    "temp = np.zeros((testing_data.shape[0],len(mapping)+6))\n",
    "\n",
    "now = len(mapping)\n",
    "for j in range(testing_data.shape[1]):\n",
    "    if(name[j] == []):\n",
    "        for i in range(testing_data.shape[0]):\n",
    "            temp[i][now] = training_data[i][j]\n",
    "        now += 1\n",
    "    else:\n",
    "        for i in range(testing_data.shape[0]):\n",
    "            idx = '{0}_{1}'.format(j,training_data[i][j])\n",
    "            temp[i][mapping[idx]] = 1\n",
    "        "
   ]
  },
  {
   "cell_type": "code",
   "execution_count": 25,
   "metadata": {},
   "outputs": [],
   "source": [
    "testing_data = temp.copy()\n",
    "testing_data = (testing_data-mean)/std"
   ]
  },
  {
   "cell_type": "code",
   "execution_count": 26,
   "metadata": {},
   "outputs": [],
   "source": [
    "y_pred = t.predict(testing_data)"
   ]
  },
  {
   "cell_type": "code",
   "execution_count": 27,
   "metadata": {},
   "outputs": [],
   "source": [
    "with open('output','w') as f:\n",
    "    for num in y_pred:\n",
    "        f.write('{0}\\n'.format(num))"
   ]
  },
  {
   "cell_type": "code",
   "execution_count": null,
   "metadata": {},
   "outputs": [],
   "source": []
  },
  {
   "cell_type": "code",
   "execution_count": null,
   "metadata": {},
   "outputs": [],
   "source": []
  }
 ],
 "metadata": {
  "kernelspec": {
   "display_name": "Python 3",
   "language": "python",
   "name": "python3"
  },
  "language_info": {
   "codemirror_mode": {
    "name": "ipython",
    "version": 3
   },
   "file_extension": ".py",
   "mimetype": "text/x-python",
   "name": "python",
   "nbconvert_exporter": "python",
   "pygments_lexer": "ipython3",
   "version": "3.6.6"
  }
 },
 "nbformat": 4,
 "nbformat_minor": 2
}
