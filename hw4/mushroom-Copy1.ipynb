{
 "cells": [
  {
   "cell_type": "code",
   "execution_count": 1,
   "metadata": {},
   "outputs": [],
   "source": [
    "import sklearn\n",
    "import numpy as np\n",
    "import pandas as pd\n",
    "from sklearn.model_selection import train_test_split"
   ]
  },
  {
   "cell_type": "code",
   "execution_count": 2,
   "metadata": {},
   "outputs": [],
   "source": [
    "data = pd.read_csv('./mushroom/mushroom_train.csv',header=None)"
   ]
  },
  {
   "cell_type": "code",
   "execution_count": 3,
   "metadata": {},
   "outputs": [],
   "source": [
    "data[10] = data[10].apply(lambda x: 'b' if(x=='?') else x)"
   ]
  },
  {
   "cell_type": "code",
   "execution_count": 4,
   "metadata": {},
   "outputs": [
    {
     "data": {
      "text/plain": [
       "w    3505\n",
       "p    1495\n",
       "g     473\n",
       "n     410\n",
       "b     350\n",
       "o     144\n",
       "e      73\n",
       "c      28\n",
       "y      22\n",
       "Name: 14, dtype: int64"
      ]
     },
     "execution_count": 4,
     "metadata": {},
     "output_type": "execute_result"
    }
   ],
   "source": [
    "data[14].value_counts()"
   ]
  },
  {
   "cell_type": "code",
   "execution_count": 5,
   "metadata": {},
   "outputs": [],
   "source": [
    "training_data,training_label = data[ (list(range(10)) + list(range(11,15)) + list(range(16,22))) ].values,data[(22)].values.astype(np.int)\n",
    "temp = training_data.copy()"
   ]
  },
  {
   "cell_type": "code",
   "execution_count": 6,
   "metadata": {},
   "outputs": [],
   "source": [
    "name = [\n",
    "     ['b','c','x','f','k','s'],\n",
    "     ['f','g','y','s'],\n",
    "     ['n','b','c','g','r','p','u','e','w','y'],\n",
    "     ['t','f'],\n",
    "     ['a','l','c','y','f','m','n','p','s'],\n",
    "     ['a','d','f','n'],\n",
    "     ['c','w','d'],\n",
    "    ['b','n'],\n",
    "    ['k','n','b','h','g','r','o','p','u','e','w','y'],\n",
    "    ['e','t'],\n",
    "    ['f','y','k','s'],\n",
    "    ['f','y','k','s'],\n",
    "    ['n','b','c','g','o','p','e','w','y'],\n",
    "    ['n','b','c','g','o','p','e','w','y'],\n",
    "    ['n','o','w','y'],\n",
    "    ['n','o','t'],\n",
    "    ['c','e','f','l','n','p','s','z'],\n",
    "    ['k','n','b','h','r','o','u','w','y'],\n",
    "    ['a','c','n','s','v','y'],\n",
    "    ['g','l','m','p','u','w','d']]\n",
    "\n",
    "mapping = {}\n",
    "map_name = []\n",
    "for i in range(len(name)):\n",
    "    for t in name[i]:\n",
    "        mapping['{0}_{1}'.format(i,t)] = len(mapping)\n",
    "        map_name.append('{0}_{1}'.format(i,t))"
   ]
  },
  {
   "cell_type": "code",
   "execution_count": 7,
   "metadata": {},
   "outputs": [],
   "source": [
    "temp = np.zeros((training_data.shape[0],len(mapping)))\n",
    "\n",
    "for i in range(training_data.shape[0]):\n",
    "    for j in range(training_data.shape[1]):\n",
    "        idx = '{0}_{1}'.format(j,training_data[i][j])\n",
    "        \n",
    "        temp[i][mapping[idx]] = 1"
   ]
  },
  {
   "cell_type": "code",
   "execution_count": 8,
   "metadata": {},
   "outputs": [
    {
     "data": {
      "text/plain": [
       "(6500, 117)"
      ]
     },
     "execution_count": 8,
     "metadata": {},
     "output_type": "execute_result"
    }
   ],
   "source": [
    "temp.shape"
   ]
  },
  {
   "cell_type": "code",
   "execution_count": 9,
   "metadata": {},
   "outputs": [],
   "source": [
    "def norm(x,y):\n",
    "    mean = x.mean(axis=0)\n",
    "    std = x.std(axis=0)+1e-8\n",
    "    \n",
    "    return (x-mean)/std,(y-mean)/std,mean,std"
   ]
  },
  {
   "cell_type": "code",
   "execution_count": 10,
   "metadata": {},
   "outputs": [],
   "source": [
    "X_train, X_test, y_train, y_test = train_test_split(temp, training_label, test_size=0.2, random_state=42)"
   ]
  },
  {
   "cell_type": "code",
   "execution_count": 11,
   "metadata": {},
   "outputs": [],
   "source": [
    "prior = [860/(860+764),764/(860+764)]"
   ]
  },
  {
   "cell_type": "code",
   "execution_count": 12,
   "metadata": {},
   "outputs": [
    {
     "name": "stdout",
     "output_type": "stream",
     "text": [
      "error rate 0.9923076923076923\n"
     ]
    }
   ],
   "source": [
    "from sklearn.naive_bayes import GaussianNB\n",
    "gnb = GaussianNB(priors=prior)\n",
    "y_pred = gnb.fit(X_train, y_train).predict(X_test)\n",
    "print(\"error rate {0}\".format(1-(y_test != y_pred).sum()/y_test.shape[0] ))"
   ]
  },
  {
   "cell_type": "code",
   "execution_count": 13,
   "metadata": {},
   "outputs": [
    {
     "name": "stdout",
     "output_type": "stream",
     "text": [
      "error rate 0.9615384615384616\n"
     ]
    }
   ],
   "source": [
    "from sklearn.naive_bayes import MultinomialNB\n",
    "mnb = MultinomialNB(class_prior=prior)\n",
    "y_pred = mnb.fit(X_train, y_train).predict(X_test)\n",
    "print(\"error rate {0}\".format(1-(y_test != y_pred).sum()/y_test.shape[0] ))\n",
    "\n"
   ]
  },
  {
   "cell_type": "code",
   "execution_count": 14,
   "metadata": {},
   "outputs": [
    {
     "name": "stdout",
     "output_type": "stream",
     "text": [
      "error rate 0.96\n"
     ]
    }
   ],
   "source": [
    "from sklearn.naive_bayes import ComplementNB\n",
    "cnb = ComplementNB(class_prior=prior)\n",
    "y_pred = cnb.fit(X_train, y_train).predict(X_test)\n",
    "print(\"error rate {0}\".format(1-(y_test != y_pred).sum()/y_test.shape[0] ))\n",
    "\n"
   ]
  },
  {
   "cell_type": "code",
   "execution_count": 15,
   "metadata": {},
   "outputs": [
    {
     "name": "stdout",
     "output_type": "stream",
     "text": [
      "error rate 0.9461538461538461\n"
     ]
    }
   ],
   "source": [
    "from sklearn.naive_bayes import BernoulliNB\n",
    "bnb = BernoulliNB(class_prior=prior)\n",
    "y_pred = bnb.fit(X_train, y_train).predict(X_test)\n",
    "print(\"error rate {0}\".format(1-(y_test != y_pred).sum()/y_test.shape[0] ))\n",
    "\n"
   ]
  },
  {
   "cell_type": "code",
   "execution_count": 16,
   "metadata": {},
   "outputs": [
    {
     "name": "stdout",
     "output_type": "stream",
     "text": [
      "error rate 1.0\n",
      "error rate 1.0\n"
     ]
    }
   ],
   "source": [
    "from sklearn.tree import DecisionTreeClassifier,export_graphviz\n",
    "t = DecisionTreeClassifier(criterion='gini', max_depth=80, min_samples_split=10,\n",
    "                                  min_samples_leaf =6,min_weight_fraction_leaf=0.0, \n",
    "                                  random_state=None, max_leaf_nodes=200,class_weight=None)\n",
    "\n",
    "y_pred = t.fit(X_train, y_train).predict(X_train)\n",
    "print(\"error rate {0}\".format(1-(y_train != y_pred).sum()/y_pred.shape[0] ))\n",
    "y_pred = t.fit(X_train, y_train).predict(X_test)\n",
    "print(\"error rate {0}\".format(1-(y_test != y_pred).sum()/y_test.shape[0] ))"
   ]
  },
  {
   "cell_type": "code",
   "execution_count": 25,
   "metadata": {},
   "outputs": [],
   "source": [
    "import os\n",
    "os.environ['PATH'] +=  (';C:\\\\Users\\\\seasa\\\\Anaconda3\\\\envs\\\\pytorch\\\\Library\\\\bin\\\\graphviz')\n",
    " \n"
   ]
  },
  {
   "cell_type": "code",
   "execution_count": 26,
   "metadata": {},
   "outputs": [
    {
     "data": {
      "image/png": "[encoded data removed]",
      "text/plain": [
       "<IPython.core.display.Image object>"
      ]
     },
     "execution_count": 26,
     "metadata": {},
     "output_type": "execute_result"
    }
   ],
   "source": [
    "import pydotplus\n",
    "from sklearn.externals.six import StringIO\n",
    "from IPython.display import Image\n",
    "\n",
    "dot_data = StringIO() \n",
    "export_graphviz(t,out_file=dot_data,feature_names=map_name)\n",
    "Image(graph.create_png())"
   ]
  },
  {
   "cell_type": "code",
   "execution_count": 21,
   "metadata": {},
   "outputs": [
    {
     "name": "stdout",
     "output_type": "stream",
     "text": [
      "error rate 0.9969230769230769\n",
      "error rate 0.9984615384615385\n"
     ]
    }
   ],
   "source": [
    "from sklearn import tree\n",
    "t = tree.DecisionTreeClassifier(criterion='gini', max_depth=80, min_samples_split=20,\n",
    "                                  min_samples_leaf =20,min_weight_fraction_leaf=0.0, \n",
    "                                  random_state=None, max_leaf_nodes=200,class_weight=None)\n",
    "\n",
    "y_pred = t.fit(X_train, y_train).predict(X_train)\n",
    "print(\"error rate {0}\".format(1-(y_train != y_pred).sum()/y_pred.shape[0] ))\n",
    "y_pred = t.fit(X_train, y_train).predict(X_test)\n",
    "print(\"error rate {0}\".format(1-(y_test != y_pred).sum()/y_test.shape[0] ))"
   ]
  },
  {
   "cell_type": "code",
   "execution_count": 19,
   "metadata": {},
   "outputs": [
    {
     "data": {
      "text/plain": [
       "(5200, 117)"
      ]
     },
     "execution_count": 19,
     "metadata": {},
     "output_type": "execute_result"
    }
   ],
   "source": [
    "X_train.shape"
   ]
  },
  {
   "cell_type": "code",
   "execution_count": 20,
   "metadata": {},
   "outputs": [
    {
     "data": {
      "text/plain": [
       "{'0_b': 0,\n",
       " '0_c': 1,\n",
       " '0_x': 2,\n",
       " '0_f': 3,\n",
       " '0_k': 4,\n",
       " '0_s': 5,\n",
       " '1_f': 6,\n",
       " '1_g': 7,\n",
       " '1_y': 8,\n",
       " '1_s': 9,\n",
       " '2_n': 10,\n",
       " '2_b': 11,\n",
       " '2_c': 12,\n",
       " '2_g': 13,\n",
       " '2_r': 14,\n",
       " '2_p': 15,\n",
       " '2_u': 16,\n",
       " '2_e': 17,\n",
       " '2_w': 18,\n",
       " '2_y': 19,\n",
       " '3_t': 20,\n",
       " '3_f': 21,\n",
       " '4_a': 22,\n",
       " '4_l': 23,\n",
       " '4_c': 24,\n",
       " '4_y': 25,\n",
       " '4_f': 26,\n",
       " '4_m': 27,\n",
       " '4_n': 28,\n",
       " '4_p': 29,\n",
       " '4_s': 30,\n",
       " '5_a': 31,\n",
       " '5_d': 32,\n",
       " '5_f': 33,\n",
       " '5_n': 34,\n",
       " '6_c': 35,\n",
       " '6_w': 36,\n",
       " '6_d': 37,\n",
       " '7_b': 38,\n",
       " '7_n': 39,\n",
       " '8_k': 40,\n",
       " '8_n': 41,\n",
       " '8_b': 42,\n",
       " '8_h': 43,\n",
       " '8_g': 44,\n",
       " '8_r': 45,\n",
       " '8_o': 46,\n",
       " '8_p': 47,\n",
       " '8_u': 48,\n",
       " '8_e': 49,\n",
       " '8_w': 50,\n",
       " '8_y': 51,\n",
       " '9_e': 52,\n",
       " '9_t': 53,\n",
       " '10_f': 54,\n",
       " '10_y': 55,\n",
       " '10_k': 56,\n",
       " '10_s': 57,\n",
       " '11_f': 58,\n",
       " '11_y': 59,\n",
       " '11_k': 60,\n",
       " '11_s': 61,\n",
       " '12_n': 62,\n",
       " '12_b': 63,\n",
       " '12_c': 64,\n",
       " '12_g': 65,\n",
       " '12_o': 66,\n",
       " '12_p': 67,\n",
       " '12_e': 68,\n",
       " '12_w': 69,\n",
       " '12_y': 70,\n",
       " '13_n': 71,\n",
       " '13_b': 72,\n",
       " '13_c': 73,\n",
       " '13_g': 74,\n",
       " '13_o': 75,\n",
       " '13_p': 76,\n",
       " '13_e': 77,\n",
       " '13_w': 78,\n",
       " '13_y': 79,\n",
       " '14_n': 80,\n",
       " '14_o': 81,\n",
       " '14_w': 82,\n",
       " '14_y': 83,\n",
       " '15_n': 84,\n",
       " '15_o': 85,\n",
       " '15_t': 86,\n",
       " '16_c': 87,\n",
       " '16_e': 88,\n",
       " '16_f': 89,\n",
       " '16_l': 90,\n",
       " '16_n': 91,\n",
       " '16_p': 92,\n",
       " '16_s': 93,\n",
       " '16_z': 94,\n",
       " '17_k': 95,\n",
       " '17_n': 96,\n",
       " '17_b': 97,\n",
       " '17_h': 98,\n",
       " '17_r': 99,\n",
       " '17_o': 100,\n",
       " '17_u': 101,\n",
       " '17_w': 102,\n",
       " '17_y': 103,\n",
       " '18_a': 104,\n",
       " '18_c': 105,\n",
       " '18_n': 106,\n",
       " '18_s': 107,\n",
       " '18_v': 108,\n",
       " '18_y': 109,\n",
       " '19_g': 110,\n",
       " '19_l': 111,\n",
       " '19_m': 112,\n",
       " '19_p': 113,\n",
       " '19_u': 114,\n",
       " '19_w': 115,\n",
       " '19_d': 116}"
      ]
     },
     "execution_count": 20,
     "metadata": {},
     "output_type": "execute_result"
    }
   ],
   "source": [
    "mapping"
   ]
  },
  {
   "cell_type": "code",
   "execution_count": 22,
   "metadata": {},
   "outputs": [],
   "source": [
    "data = pd.read_csv('./mushroom/mushroom_test.csv',header=None)\n",
    "testing_data,testing_label = data[ ( list(range(10)) + list(range(11,15)) + list(range(16,22))) ].values,data[22].values.astype(np.int)\n",
    "\n",
    "\n",
    "temp = np.zeros((testing_data.shape[0],X_train.shape[1]))\n",
    "for i in range(testing_data.shape[0]):\n",
    "    for j in range(testing_data.shape[1]):\n",
    "        now = '{0}_{1}'.format(j,testing_data[i][j])\n",
    "        temp[i][mapping[now]] = 1\n",
    "        "
   ]
  },
  {
   "cell_type": "code",
   "execution_count": 23,
   "metadata": {},
   "outputs": [
    {
     "data": {
      "text/plain": [
       "(1624,)"
      ]
     },
     "execution_count": 23,
     "metadata": {},
     "output_type": "execute_result"
    }
   ],
   "source": [
    "testing_label.shape"
   ]
  },
  {
   "cell_type": "code",
   "execution_count": 25,
   "metadata": {},
   "outputs": [],
   "source": [
    "testing_data = temp.copy()"
   ]
  },
  {
   "cell_type": "code",
   "execution_count": 26,
   "metadata": {},
   "outputs": [
    {
     "name": "stdout",
     "output_type": "stream",
     "text": [
      "error rate 0.9963054187192119\n"
     ]
    }
   ],
   "source": [
    "y_pred = t.predict(testing_data)\n",
    "print(\"error rate {0}\".format((testing_label == y_pred).sum()/testing_label.shdape[0] ))"
   ]
  },
  {
   "cell_type": "code",
   "execution_count": 27,
   "metadata": {},
   "outputs": [
    {
     "name": "stdout",
     "output_type": "stream",
     "text": [
      "error rate 0.9895320197044335\n",
      "error rate 0.9575123152709359\n",
      "error rate 0.9568965517241379\n",
      "error rate 0.9464285714285714\n"
     ]
    }
   ],
   "source": [
    "y_pred = gnb.predict(testing_data)\n",
    "print(\"error rate {0}\".format(1-(testing_label != y_pred).sum()/testing_label.shape[0] ))\n",
    "\n",
    "y_pred = mnb.predict(testing_data)\n",
    "print(\"error rate {0}\".format(1-(testing_label != y_pred).sum()/testing_label.shape[0] ))\n",
    "\n",
    "y_pred = cnb.predict(testing_data)\n",
    "print(\"error rate {0}\".format(1-(testing_label != y_pred).sum()/testing_label.shape[0] ))\n",
    "\n",
    "y_pred = bnb.predict(testing_data)\n",
    "print(\"error rate {0}\".format(1-(testing_label != y_pred).sum()/testing_label.shape[0] ))"
   ]
  },
  {
   "cell_type": "code",
   "execution_count": null,
   "metadata": {},
   "outputs": [],
   "source": []
  }
 ],
 "metadata": {
  "kernelspec": {
   "display_name": "Python 3",
   "language": "python",
   "name": "python3"
  },
  "language_info": {
   "codemirror_mode": {
    "name": "ipython",
    "version": 3
   },
   "file_extension": ".py",
   "mimetype": "text/x-python",
   "name": "python",
   "nbconvert_exporter": "python",
   "pygments_lexer": "ipython3",
   "version": "3.6.6"
  }
 },
 "nbformat": 4,
 "nbformat_minor": 2
}
