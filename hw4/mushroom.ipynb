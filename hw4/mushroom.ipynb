{
 "cells": [
  {
   "cell_type": "code",
   "execution_count": 1,
   "metadata": {},
   "outputs": [],
   "source": [
    "import sklearn\n",
    "import numpy as np\n",
    "import pandas as pd\n",
    "from sklearn.model_selection import train_test_split"
   ]
  },
  {
   "cell_type": "code",
   "execution_count": 2,
   "metadata": {},
   "outputs": [],
   "source": [
    "data = pd.read_csv('./mushroom/mushroom_train.csv',header=None)"
   ]
  },
  {
   "cell_type": "code",
   "execution_count": 3,
   "metadata": {},
   "outputs": [
    {
     "data": {
      "text/html": [
       "<div>\n",
       "<style scoped>\n",
       "    .dataframe tbody tr th:only-of-type {\n",
       "        vertical-align: middle;\n",
       "    }\n",
       "\n",
       "    .dataframe tbody tr th {\n",
       "        vertical-align: top;\n",
       "    }\n",
       "\n",
       "    .dataframe thead th {\n",
       "        text-align: right;\n",
       "    }\n",
       "</style>\n",
       "<table border=\"1\" class=\"dataframe\">\n",
       "  <thead>\n",
       "    <tr style=\"text-align: right;\">\n",
       "      <th></th>\n",
       "      <th>0</th>\n",
       "      <th>1</th>\n",
       "      <th>2</th>\n",
       "      <th>3</th>\n",
       "      <th>4</th>\n",
       "      <th>5</th>\n",
       "      <th>6</th>\n",
       "      <th>7</th>\n",
       "      <th>8</th>\n",
       "      <th>9</th>\n",
       "      <th>...</th>\n",
       "      <th>13</th>\n",
       "      <th>14</th>\n",
       "      <th>15</th>\n",
       "      <th>16</th>\n",
       "      <th>17</th>\n",
       "      <th>18</th>\n",
       "      <th>19</th>\n",
       "      <th>20</th>\n",
       "      <th>21</th>\n",
       "      <th>22</th>\n",
       "    </tr>\n",
       "  </thead>\n",
       "  <tbody>\n",
       "    <tr>\n",
       "      <th>0</th>\n",
       "      <td>f</td>\n",
       "      <td>s</td>\n",
       "      <td>n</td>\n",
       "      <td>f</td>\n",
       "      <td>n</td>\n",
       "      <td>f</td>\n",
       "      <td>w</td>\n",
       "      <td>b</td>\n",
       "      <td>p</td>\n",
       "      <td>t</td>\n",
       "      <td>...</td>\n",
       "      <td>w</td>\n",
       "      <td>w</td>\n",
       "      <td>p</td>\n",
       "      <td>w</td>\n",
       "      <td>o</td>\n",
       "      <td>e</td>\n",
       "      <td>n</td>\n",
       "      <td>a</td>\n",
       "      <td>g</td>\n",
       "      <td>1</td>\n",
       "    </tr>\n",
       "    <tr>\n",
       "      <th>1</th>\n",
       "      <td>f</td>\n",
       "      <td>y</td>\n",
       "      <td>n</td>\n",
       "      <td>f</td>\n",
       "      <td>s</td>\n",
       "      <td>f</td>\n",
       "      <td>c</td>\n",
       "      <td>n</td>\n",
       "      <td>b</td>\n",
       "      <td>t</td>\n",
       "      <td>...</td>\n",
       "      <td>w</td>\n",
       "      <td>w</td>\n",
       "      <td>p</td>\n",
       "      <td>w</td>\n",
       "      <td>o</td>\n",
       "      <td>e</td>\n",
       "      <td>w</td>\n",
       "      <td>v</td>\n",
       "      <td>l</td>\n",
       "      <td>0</td>\n",
       "    </tr>\n",
       "    <tr>\n",
       "      <th>2</th>\n",
       "      <td>x</td>\n",
       "      <td>f</td>\n",
       "      <td>n</td>\n",
       "      <td>t</td>\n",
       "      <td>n</td>\n",
       "      <td>f</td>\n",
       "      <td>c</td>\n",
       "      <td>b</td>\n",
       "      <td>p</td>\n",
       "      <td>t</td>\n",
       "      <td>...</td>\n",
       "      <td>p</td>\n",
       "      <td>w</td>\n",
       "      <td>p</td>\n",
       "      <td>w</td>\n",
       "      <td>o</td>\n",
       "      <td>p</td>\n",
       "      <td>n</td>\n",
       "      <td>v</td>\n",
       "      <td>d</td>\n",
       "      <td>1</td>\n",
       "    </tr>\n",
       "  </tbody>\n",
       "</table>\n",
       "<p>3 rows × 23 columns</p>\n",
       "</div>"
      ],
      "text/plain": [
       "  0  1  2  3  4  5  6  7  8  9  ... 13 14 15 16 17 18 19 20 21 22\n",
       "0  f  s  n  f  n  f  w  b  p  t ...  w  w  p  w  o  e  n  a  g  1\n",
       "1  f  y  n  f  s  f  c  n  b  t ...  w  w  p  w  o  e  w  v  l  0\n",
       "2  x  f  n  t  n  f  c  b  p  t ...  p  w  p  w  o  p  n  v  d  1\n",
       "\n",
       "[3 rows x 23 columns]"
      ]
     },
     "execution_count": 3,
     "metadata": {},
     "output_type": "execute_result"
    }
   ],
   "source": [
    "data.head(3)"
   ]
  },
  {
   "cell_type": "code",
   "execution_count": 4,
   "metadata": {},
   "outputs": [],
   "source": [
    "training_data,training_label = data[list(range(22))].values,data[(22)].values.astype(np.int)"
   ]
  },
  {
   "cell_type": "code",
   "execution_count": 27,
   "metadata": {},
   "outputs": [
    {
     "data": {
      "text/plain": [
       "array(['x', 'f', 'n', 'f', 'n', 'f', 'c', 'n', 'n', 'e', 'e', 's', 's',\n",
       "       'w', 'w', 'p', 'w', 'o', 'p', 'k', 'y', 'u'], dtype=object)"
      ]
     },
     "execution_count": 27,
     "metadata": {},
     "output_type": "execute_result"
    }
   ],
   "source": [
    "training_data[10]"
   ]
  },
  {
   "cell_type": "code",
   "execution_count": 12,
   "metadata": {},
   "outputs": [],
   "source": [
    "temp = training_data.copy()"
   ]
  },
  {
   "cell_type": "code",
   "execution_count": 13,
   "metadata": {},
   "outputs": [],
   "source": [
    "for j in range(temp.shape[1]):\n",
    "    vocab = {}\n",
    "    for i in range(temp.shape[0]):\n",
    "        try:\n",
    "            temp[i][j] = vocab[ temp[i][j] ]\n",
    "        except:\n",
    "            vocab[ temp[i][j] ] = len(vocab)\n",
    "            temp[i][j] = vocab[ temp[i][j] ]"
   ]
  },
  {
   "cell_type": "code",
   "execution_count": 14,
   "metadata": {},
   "outputs": [
    {
     "data": {
      "text/plain": [
       "array([[0, 0, 0, ..., 0, 0, 0],\n",
       "       [0, 1, 0, ..., 1, 1, 1],\n",
       "       [1, 2, 0, ..., 0, 1, 2],\n",
       "       ...,\n",
       "       [3, 1, 4, ..., 0, 4, 5],\n",
       "       [2, 1, 3, ..., 1, 1, 2],\n",
       "       [1, 2, 4, ..., 3, 1, 0]], dtype=object)"
      ]
     },
     "execution_count": 14,
     "metadata": {},
     "output_type": "execute_result"
    }
   ],
   "source": [
    "temp"
   ]
  },
  {
   "cell_type": "code",
   "execution_count": 15,
   "metadata": {},
   "outputs": [],
   "source": [
    "def norm(x,y):\n",
    "    mean = x.mean(axis=0)\n",
    "    std = x.std(axis=0)+1e-8\n",
    "    \n",
    "    return (x-mean)/std,(y-mean)/std,mean,std"
   ]
  },
  {
   "cell_type": "code",
   "execution_count": 16,
   "metadata": {},
   "outputs": [],
   "source": [
    "X_train, X_test, y_train, y_test = train_test_split(temp, training_label, test_size=0.2, random_state=42)"
   ]
  },
  {
   "cell_type": "code",
   "execution_count": 20,
   "metadata": {},
   "outputs": [
    {
     "name": "stdout",
     "output_type": "stream",
     "text": [
      "error rate 0.9476923076923077\n"
     ]
    }
   ],
   "source": [
    "from sklearn.naive_bayes import GaussianNB\n",
    "gnb = GaussianNB()\n",
    "y_pred = gnb.fit(X_train, y_train).predict(X_test)\n",
    "print(\"error rate {0}\".format(1-(y_test != y_pred).sum()/y_test.shape[0] ))"
   ]
  },
  {
   "cell_type": "code",
   "execution_count": 21,
   "metadata": {},
   "outputs": [
    {
     "name": "stdout",
     "output_type": "stream",
     "text": [
      "error rate 0.8792307692307693\n"
     ]
    }
   ],
   "source": [
    "from sklearn.naive_bayes import MultinomialNB\n",
    "mnb = MultinomialNB()\n",
    "y_pred = mnb.fit(X_train, y_train).predict(X_test)\n",
    "print(\"error rate {0}\".format(1-(y_test != y_pred).sum()/y_test.shape[0] ))\n",
    "\n"
   ]
  },
  {
   "cell_type": "code",
   "execution_count": 22,
   "metadata": {},
   "outputs": [
    {
     "name": "stdout",
     "output_type": "stream",
     "text": [
      "error rate 0.8769230769230769\n"
     ]
    }
   ],
   "source": [
    "from sklearn.naive_bayes import ComplementNB\n",
    "cnb = ComplementNB()\n",
    "y_pred = cnb.fit(X_train, y_train).predict(X_test)\n",
    "print(\"error rate {0}\".format(1-(y_test != y_pred).sum()/y_test.shape[0] ))\n",
    "\n"
   ]
  },
  {
   "cell_type": "code",
   "execution_count": 23,
   "metadata": {},
   "outputs": [
    {
     "name": "stdout",
     "output_type": "stream",
     "text": [
      "error rate 0.9184615384615384\n"
     ]
    }
   ],
   "source": [
    "from sklearn.naive_bayes import BernoulliNB\n",
    "bnb = BernoulliNB()\n",
    "y_pred = bnb.fit(X_train, y_train).predict(X_test)\n",
    "print(\"error rate {0}\".format(1-(y_test != y_pred).sum()/y_test.shape[0] ))\n",
    "\n"
   ]
  },
  {
   "cell_type": "code",
   "execution_count": 24,
   "metadata": {},
   "outputs": [
    {
     "name": "stdout",
     "output_type": "stream",
     "text": [
      "error rate 1.0\n",
      "error rate 1.0\n"
     ]
    }
   ],
   "source": [
    "from sklearn import tree\n",
    "t = tree.DecisionTreeClassifier(criterion='gini', max_depth=40, min_samples_split=2,\n",
    "                                  min_samples_leaf =1, min_weight_fraction_leaf=0.0, max_features=None, \n",
    "                                  random_state=None, max_leaf_nodes=100,class_weight=None)\n",
    "\n",
    "y_pred = t.fit(X_train, y_train).predict(X_train)\n",
    "print(\"error rate {0}\".format(1-(y_train != y_pred).sum()/y_pred.shape[0] ))\n",
    "y_pred = t.fit(X_train, y_train).predict(X_test)\n",
    "print(\"error rate {0}\".format(1-(y_test != y_pred).sum()/y_test.shape[0] ))"
   ]
  },
  {
   "cell_type": "code",
   "execution_count": 25,
   "metadata": {},
   "outputs": [
    {
     "name": "stdout",
     "output_type": "stream",
     "text": [
      "error rate 1.0\n",
      "error rate 1.0\n"
     ]
    }
   ],
   "source": [
    "from sklearn import tree\n",
    "t = tree.DecisionTreeClassifier(criterion='gini', max_depth=80, min_samples_split=10,\n",
    "                                  min_samples_leaf =6,min_weight_fraction_leaf=0.0, \n",
    "                                  random_state=None, max_leaf_nodes=200,class_weight=None)\n",
    "\n",
    "y_pred = t.fit(X_train, y_train).predict(X_train)\n",
    "print(\"error rate {0}\".format(1-(y_train != y_pred).sum()/y_pred.shape[0] ))\n",
    "y_pred = t.fit(X_train, y_train).predict(X_test)\n",
    "print(\"error rate {0}\".format(1-(y_test != y_pred).sum()/y_test.shape[0] ))"
   ]
  },
  {
   "cell_type": "code",
   "execution_count": 26,
   "metadata": {},
   "outputs": [
    {
     "name": "stdout",
     "output_type": "stream",
     "text": [
      "error rate 0.9975\n",
      "error rate 0.9992307692307693\n"
     ]
    }
   ],
   "source": [
    "from sklearn import tree\n",
    "t = tree.DecisionTreeClassifier(criterion='gini', max_depth=80, min_samples_split=20,\n",
    "                                  min_samples_leaf =20,min_weight_fraction_leaf=0.0, \n",
    "                                  random_state=None, max_leaf_nodes=200,class_weight=None)\n",
    "\n",
    "y_pred = t.fit(X_train, y_train).predict(X_train)\n",
    "print(\"error rate {0}\".format(1-(y_train != y_pred).sum()/y_pred.shape[0] ))\n",
    "y_pred = t.fit(X_train, y_train).predict(X_test)\n",
    "print(\"error rate {0}\".format(1-(y_test != y_pred).sum()/y_test.shape[0] ))"
   ]
  },
  {
   "cell_type": "code",
   "execution_count": 16,
   "metadata": {},
   "outputs": [],
   "source": [
    "data = pd.read_csv('./mushroom/mushroom_test.csv',header=None)\n",
    "testing_data,testing_label = data[list(range(23909))].values,data[(23909)].values.astype(np.int)"
   ]
  },
  {
   "cell_type": "code",
   "execution_count": 24,
   "metadata": {},
   "outputs": [
    {
     "name": "stdout",
     "output_type": "stream",
     "text": [
      "error rate 0.5867132867132867\n"
     ]
    }
   ],
   "source": [
    "y_pred = t.predict(testing_data)\n",
    "print(\"error rate {0}\".format(1-(testing_label != y_pred).sum()/testing_label.shape[0] ))"
   ]
  },
  {
   "cell_type": "code",
   "execution_count": 29,
   "metadata": {},
   "outputs": [
    {
     "name": "stdout",
     "output_type": "stream",
     "text": [
      "error rate 0.8041958041958042\n",
      "error rate 0.813986013986014\n",
      "error rate 0.8636363636363636\n",
      "error rate 0.7657342657342657\n"
     ]
    }
   ],
   "source": [
    "y_pred = gnb.predict(testing_data)\n",
    "print(\"error rate {0}\".format(1-(testing_label != y_pred).sum()/testing_label.shape[0] ))\n",
    "\n",
    "y_pred = mnb.predict(testing_data)\n",
    "print(\"error rate {0}\".format(1-(testing_label != y_pred).sum()/testing_label.shape[0] ))\n",
    "\n",
    "y_pred = cnb.predict(testing_data)\n",
    "print(\"error rate {0}\".format(1-(testing_label != y_pred).sum()/testing_label.shape[0] ))\n",
    "\n",
    "y_pred = bnb.predict(testing_data)\n",
    "print(\"error rate {0}\".format(1-(testing_label != y_pred).sum()/testing_label.shape[0] ))"
   ]
  },
  {
   "cell_type": "code",
   "execution_count": null,
   "metadata": {},
   "outputs": [],
   "source": []
  }
 ],
 "metadata": {
  "kernelspec": {
   "display_name": "Python 3",
   "language": "python",
   "name": "python3"
  },
  "language_info": {
   "codemirror_mode": {
    "name": "ipython",
    "version": 3
   },
   "file_extension": ".py",
   "mimetype": "text/x-python",
   "name": "python",
   "nbconvert_exporter": "python",
   "pygments_lexer": "ipython3",
   "version": "3.6.6"
  }
 },
 "nbformat": 4,
 "nbformat_minor": 2
}
