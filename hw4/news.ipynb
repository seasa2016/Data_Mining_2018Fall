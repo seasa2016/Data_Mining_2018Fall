{
 "cells": [
  {
   "cell_type": "code",
   "execution_count": 1,
   "metadata": {},
   "outputs": [],
   "source": [
    "import sklearn\n",
    "import numpy as np\n",
    "import pandas as pd\n",
    "from sklearn.model_selection import train_test_split"
   ]
  },
  {
   "cell_type": "code",
   "execution_count": 2,
   "metadata": {},
   "outputs": [],
   "source": [
    "data = pd.read_csv('./news/news_train.csv',header=None)"
   ]
  },
  {
   "cell_type": "code",
   "execution_count": 3,
   "metadata": {},
   "outputs": [
    {
     "data": {
      "text/plain": [
       "(2149, 23910)"
      ]
     },
     "execution_count": 3,
     "metadata": {},
     "output_type": "execute_result"
    }
   ],
   "source": [
    "data.shape"
   ]
  },
  {
   "cell_type": "code",
   "execution_count": 4,
   "metadata": {},
   "outputs": [
    {
     "data": {
      "text/html": [
       "<div>\n",
       "<style scoped>\n",
       "    .dataframe tbody tr th:only-of-type {\n",
       "        vertical-align: middle;\n",
       "    }\n",
       "\n",
       "    .dataframe tbody tr th {\n",
       "        vertical-align: top;\n",
       "    }\n",
       "\n",
       "    .dataframe thead th {\n",
       "        text-align: right;\n",
       "    }\n",
       "</style>\n",
       "<table border=\"1\" class=\"dataframe\">\n",
       "  <thead>\n",
       "    <tr style=\"text-align: right;\">\n",
       "      <th></th>\n",
       "      <th>0</th>\n",
       "      <th>1</th>\n",
       "      <th>2</th>\n",
       "      <th>3</th>\n",
       "      <th>4</th>\n",
       "      <th>5</th>\n",
       "      <th>6</th>\n",
       "      <th>7</th>\n",
       "      <th>8</th>\n",
       "      <th>9</th>\n",
       "      <th>...</th>\n",
       "      <th>23900</th>\n",
       "      <th>23901</th>\n",
       "      <th>23902</th>\n",
       "      <th>23903</th>\n",
       "      <th>23904</th>\n",
       "      <th>23905</th>\n",
       "      <th>23906</th>\n",
       "      <th>23907</th>\n",
       "      <th>23908</th>\n",
       "      <th>23909</th>\n",
       "    </tr>\n",
       "  </thead>\n",
       "  <tbody>\n",
       "    <tr>\n",
       "      <th>count</th>\n",
       "      <td>2149.000000</td>\n",
       "      <td>2149.000000</td>\n",
       "      <td>2149.000000</td>\n",
       "      <td>2149.000000</td>\n",
       "      <td>2149.000000</td>\n",
       "      <td>2149.000000</td>\n",
       "      <td>2149.000000</td>\n",
       "      <td>2149.000000</td>\n",
       "      <td>2149.000000</td>\n",
       "      <td>2149.000000</td>\n",
       "      <td>...</td>\n",
       "      <td>2149.000000</td>\n",
       "      <td>2149.000000</td>\n",
       "      <td>2149.000000</td>\n",
       "      <td>2149.000000</td>\n",
       "      <td>2149.000000</td>\n",
       "      <td>2149.000000</td>\n",
       "      <td>2149.000000</td>\n",
       "      <td>2149.000000</td>\n",
       "      <td>2149.000000</td>\n",
       "      <td>2149.000000</td>\n",
       "    </tr>\n",
       "    <tr>\n",
       "      <th>mean</th>\n",
       "      <td>0.002215</td>\n",
       "      <td>0.002016</td>\n",
       "      <td>0.000002</td>\n",
       "      <td>0.000042</td>\n",
       "      <td>0.000083</td>\n",
       "      <td>0.000003</td>\n",
       "      <td>0.000035</td>\n",
       "      <td>0.000005</td>\n",
       "      <td>0.000080</td>\n",
       "      <td>0.000083</td>\n",
       "      <td>...</td>\n",
       "      <td>0.000002</td>\n",
       "      <td>0.000089</td>\n",
       "      <td>0.000002</td>\n",
       "      <td>0.000012</td>\n",
       "      <td>0.000002</td>\n",
       "      <td>0.000041</td>\n",
       "      <td>0.000079</td>\n",
       "      <td>0.000086</td>\n",
       "      <td>0.000086</td>\n",
       "      <td>1.354118</td>\n",
       "    </tr>\n",
       "    <tr>\n",
       "      <th>std</th>\n",
       "      <td>0.025235</td>\n",
       "      <td>0.020623</td>\n",
       "      <td>0.000107</td>\n",
       "      <td>0.001932</td>\n",
       "      <td>0.003836</td>\n",
       "      <td>0.000141</td>\n",
       "      <td>0.001640</td>\n",
       "      <td>0.000213</td>\n",
       "      <td>0.003706</td>\n",
       "      <td>0.003836</td>\n",
       "      <td>...</td>\n",
       "      <td>0.000107</td>\n",
       "      <td>0.002871</td>\n",
       "      <td>0.000107</td>\n",
       "      <td>0.000547</td>\n",
       "      <td>0.000107</td>\n",
       "      <td>0.001815</td>\n",
       "      <td>0.003657</td>\n",
       "      <td>0.003978</td>\n",
       "      <td>0.003978</td>\n",
       "      <td>1.060005</td>\n",
       "    </tr>\n",
       "    <tr>\n",
       "      <th>min</th>\n",
       "      <td>0.000000</td>\n",
       "      <td>0.000000</td>\n",
       "      <td>0.000000</td>\n",
       "      <td>0.000000</td>\n",
       "      <td>0.000000</td>\n",
       "      <td>0.000000</td>\n",
       "      <td>0.000000</td>\n",
       "      <td>0.000000</td>\n",
       "      <td>0.000000</td>\n",
       "      <td>0.000000</td>\n",
       "      <td>...</td>\n",
       "      <td>0.000000</td>\n",
       "      <td>0.000000</td>\n",
       "      <td>0.000000</td>\n",
       "      <td>0.000000</td>\n",
       "      <td>0.000000</td>\n",
       "      <td>0.000000</td>\n",
       "      <td>0.000000</td>\n",
       "      <td>0.000000</td>\n",
       "      <td>0.000000</td>\n",
       "      <td>0.000000</td>\n",
       "    </tr>\n",
       "    <tr>\n",
       "      <th>25%</th>\n",
       "      <td>0.000000</td>\n",
       "      <td>0.000000</td>\n",
       "      <td>0.000000</td>\n",
       "      <td>0.000000</td>\n",
       "      <td>0.000000</td>\n",
       "      <td>0.000000</td>\n",
       "      <td>0.000000</td>\n",
       "      <td>0.000000</td>\n",
       "      <td>0.000000</td>\n",
       "      <td>0.000000</td>\n",
       "      <td>...</td>\n",
       "      <td>0.000000</td>\n",
       "      <td>0.000000</td>\n",
       "      <td>0.000000</td>\n",
       "      <td>0.000000</td>\n",
       "      <td>0.000000</td>\n",
       "      <td>0.000000</td>\n",
       "      <td>0.000000</td>\n",
       "      <td>0.000000</td>\n",
       "      <td>0.000000</td>\n",
       "      <td>0.000000</td>\n",
       "    </tr>\n",
       "    <tr>\n",
       "      <th>50%</th>\n",
       "      <td>0.000000</td>\n",
       "      <td>0.000000</td>\n",
       "      <td>0.000000</td>\n",
       "      <td>0.000000</td>\n",
       "      <td>0.000000</td>\n",
       "      <td>0.000000</td>\n",
       "      <td>0.000000</td>\n",
       "      <td>0.000000</td>\n",
       "      <td>0.000000</td>\n",
       "      <td>0.000000</td>\n",
       "      <td>...</td>\n",
       "      <td>0.000000</td>\n",
       "      <td>0.000000</td>\n",
       "      <td>0.000000</td>\n",
       "      <td>0.000000</td>\n",
       "      <td>0.000000</td>\n",
       "      <td>0.000000</td>\n",
       "      <td>0.000000</td>\n",
       "      <td>0.000000</td>\n",
       "      <td>0.000000</td>\n",
       "      <td>1.000000</td>\n",
       "    </tr>\n",
       "    <tr>\n",
       "      <th>75%</th>\n",
       "      <td>0.000000</td>\n",
       "      <td>0.000000</td>\n",
       "      <td>0.000000</td>\n",
       "      <td>0.000000</td>\n",
       "      <td>0.000000</td>\n",
       "      <td>0.000000</td>\n",
       "      <td>0.000000</td>\n",
       "      <td>0.000000</td>\n",
       "      <td>0.000000</td>\n",
       "      <td>0.000000</td>\n",
       "      <td>...</td>\n",
       "      <td>0.000000</td>\n",
       "      <td>0.000000</td>\n",
       "      <td>0.000000</td>\n",
       "      <td>0.000000</td>\n",
       "      <td>0.000000</td>\n",
       "      <td>0.000000</td>\n",
       "      <td>0.000000</td>\n",
       "      <td>0.000000</td>\n",
       "      <td>0.000000</td>\n",
       "      <td>2.000000</td>\n",
       "    </tr>\n",
       "    <tr>\n",
       "      <th>max</th>\n",
       "      <td>0.917725</td>\n",
       "      <td>0.507114</td>\n",
       "      <td>0.004940</td>\n",
       "      <td>0.089560</td>\n",
       "      <td>0.177829</td>\n",
       "      <td>0.006529</td>\n",
       "      <td>0.076048</td>\n",
       "      <td>0.009881</td>\n",
       "      <td>0.171793</td>\n",
       "      <td>0.177829</td>\n",
       "      <td>...</td>\n",
       "      <td>0.004940</td>\n",
       "      <td>0.119289</td>\n",
       "      <td>0.004940</td>\n",
       "      <td>0.025374</td>\n",
       "      <td>0.004940</td>\n",
       "      <td>0.084010</td>\n",
       "      <td>0.169544</td>\n",
       "      <td>0.184405</td>\n",
       "      <td>0.184405</td>\n",
       "      <td>3.000000</td>\n",
       "    </tr>\n",
       "  </tbody>\n",
       "</table>\n",
       "<p>8 rows × 23910 columns</p>\n",
       "</div>"
      ],
      "text/plain": [
       "             0            1            2            3            4      \\\n",
       "count  2149.000000  2149.000000  2149.000000  2149.000000  2149.000000   \n",
       "mean      0.002215     0.002016     0.000002     0.000042     0.000083   \n",
       "std       0.025235     0.020623     0.000107     0.001932     0.003836   \n",
       "min       0.000000     0.000000     0.000000     0.000000     0.000000   \n",
       "25%       0.000000     0.000000     0.000000     0.000000     0.000000   \n",
       "50%       0.000000     0.000000     0.000000     0.000000     0.000000   \n",
       "75%       0.000000     0.000000     0.000000     0.000000     0.000000   \n",
       "max       0.917725     0.507114     0.004940     0.089560     0.177829   \n",
       "\n",
       "             5            6            7            8            9      \\\n",
       "count  2149.000000  2149.000000  2149.000000  2149.000000  2149.000000   \n",
       "mean      0.000003     0.000035     0.000005     0.000080     0.000083   \n",
       "std       0.000141     0.001640     0.000213     0.003706     0.003836   \n",
       "min       0.000000     0.000000     0.000000     0.000000     0.000000   \n",
       "25%       0.000000     0.000000     0.000000     0.000000     0.000000   \n",
       "50%       0.000000     0.000000     0.000000     0.000000     0.000000   \n",
       "75%       0.000000     0.000000     0.000000     0.000000     0.000000   \n",
       "max       0.006529     0.076048     0.009881     0.171793     0.177829   \n",
       "\n",
       "          ...             23900        23901        23902        23903  \\\n",
       "count     ...       2149.000000  2149.000000  2149.000000  2149.000000   \n",
       "mean      ...          0.000002     0.000089     0.000002     0.000012   \n",
       "std       ...          0.000107     0.002871     0.000107     0.000547   \n",
       "min       ...          0.000000     0.000000     0.000000     0.000000   \n",
       "25%       ...          0.000000     0.000000     0.000000     0.000000   \n",
       "50%       ...          0.000000     0.000000     0.000000     0.000000   \n",
       "75%       ...          0.000000     0.000000     0.000000     0.000000   \n",
       "max       ...          0.004940     0.119289     0.004940     0.025374   \n",
       "\n",
       "             23904        23905        23906        23907        23908  \\\n",
       "count  2149.000000  2149.000000  2149.000000  2149.000000  2149.000000   \n",
       "mean      0.000002     0.000041     0.000079     0.000086     0.000086   \n",
       "std       0.000107     0.001815     0.003657     0.003978     0.003978   \n",
       "min       0.000000     0.000000     0.000000     0.000000     0.000000   \n",
       "25%       0.000000     0.000000     0.000000     0.000000     0.000000   \n",
       "50%       0.000000     0.000000     0.000000     0.000000     0.000000   \n",
       "75%       0.000000     0.000000     0.000000     0.000000     0.000000   \n",
       "max       0.004940     0.084010     0.169544     0.184405     0.184405   \n",
       "\n",
       "             23909  \n",
       "count  2149.000000  \n",
       "mean      1.354118  \n",
       "std       1.060005  \n",
       "min       0.000000  \n",
       "25%       0.000000  \n",
       "50%       1.000000  \n",
       "75%       2.000000  \n",
       "max       3.000000  \n",
       "\n",
       "[8 rows x 23910 columns]"
      ]
     },
     "execution_count": 4,
     "metadata": {},
     "output_type": "execute_result"
    }
   ],
   "source": [
    "data.describe()"
   ]
  },
  {
   "cell_type": "code",
   "execution_count": 5,
   "metadata": {},
   "outputs": [],
   "source": [
    "training_data,training_label = data[list(range(23909))].values,data[(23909)].values.astype(np.int)"
   ]
  },
  {
   "cell_type": "code",
   "execution_count": 6,
   "metadata": {},
   "outputs": [],
   "source": [
    "def norm(x,y):\n",
    "    mean = x.mean(axis=0)\n",
    "    std = x.std(axis=0)+1e-8\n",
    "    \n",
    "    return (x-mean)/std,(y-mean)/std,mean,std"
   ]
  },
  {
   "cell_type": "code",
   "execution_count": 7,
   "metadata": {},
   "outputs": [],
   "source": [
    "X_train, X_test, y_train, y_test = train_test_split(training_data, training_label, test_size=0.2, random_state=42)"
   ]
  },
  {
   "cell_type": "code",
   "execution_count": 8,
   "metadata": {},
   "outputs": [
    {
     "name": "stdout",
     "output_type": "stream",
     "text": [
      "error rate 0.8372093023255813\n"
     ]
    }
   ],
   "source": [
    "from sklearn.naive_bayes import GaussianNB\n",
    "gnb = GaussianNB()\n",
    "y_pred = gnb.fit(X_train, y_train).predict(X_test)\n",
    "print(\"error rate {0}\".format(1-(y_test != y_pred).sum()/y_test.shape[0] ))"
   ]
  },
  {
   "cell_type": "code",
   "execution_count": 9,
   "metadata": {},
   "outputs": [
    {
     "name": "stdout",
     "output_type": "stream",
     "text": [
      "error rate 0.8372093023255813\n"
     ]
    }
   ],
   "source": [
    "from sklearn.naive_bayes import MultinomialNB\n",
    "mnb = MultinomialNB()\n",
    "y_pred = mnb.fit(X_train, y_train).predict(X_test)\n",
    "print(\"error rate {0}\".format(1-(y_test != y_pred).sum()/y_test.shape[0] ))\n",
    "\n"
   ]
  },
  {
   "cell_type": "code",
   "execution_count": 10,
   "metadata": {},
   "outputs": [
    {
     "name": "stdout",
     "output_type": "stream",
     "text": [
      "error rate 0.8744186046511628\n"
     ]
    }
   ],
   "source": [
    "from sklearn.naive_bayes import ComplementNB\n",
    "cnb = ComplementNB()\n",
    "y_pred = cnb.fit(X_train, y_train).predict(X_test)\n",
    "print(\"error rate {0}\".format(1-(y_test != y_pred).sum()/y_test.shape[0] ))\n",
    "\n"
   ]
  },
  {
   "cell_type": "code",
   "execution_count": 11,
   "metadata": {},
   "outputs": [
    {
     "name": "stdout",
     "output_type": "stream",
     "text": [
      "error rate 0.8023255813953488\n"
     ]
    }
   ],
   "source": [
    "from sklearn.naive_bayes import BernoulliNB\n",
    "bnb = BernoulliNB()\n",
    "y_pred = bnb.fit(X_train, y_train).predict(X_test)\n",
    "print(\"error rate {0}\".format(1-(y_test != y_pred).sum()/y_test.shape[0] ))\n",
    "\n"
   ]
  },
  {
   "cell_type": "code",
   "execution_count": 12,
   "metadata": {},
   "outputs": [
    {
     "name": "stdout",
     "output_type": "stream",
     "text": [
      "error rate 0.8086096567771961\n",
      "error rate 0.6023255813953489\n"
     ]
    }
   ],
   "source": [
    "from sklearn import tree\n",
    "t = tree.DecisionTreeClassifier(criterion='gini', max_depth=40, min_samples_split=2,\n",
    "                                  min_samples_leaf =1, min_weight_fraction_leaf=0.0, max_features=None, \n",
    "                                  random_state=None, max_leaf_nodes=100,class_weight=None)\n",
    "\n",
    "y_pred = t.fit(X_train, y_train).predict(X_train)\n",
    "print(\"error rate {0}\".format(1-(y_train != y_pred).sum()/y_pred.shape[0] ))\n",
    "y_pred = t.predict(X_test)\n",
    "print(\"error rate {0}\".format(1-(y_test != y_pred).sum()/y_test.shape[0] ))"
   ]
  },
  {
   "cell_type": "code",
   "execution_count": 13,
   "metadata": {},
   "outputs": [
    {
     "name": "stdout",
     "output_type": "stream",
     "text": [
      "error rate 0.8016288539848749\n",
      "error rate 0.5883720930232559\n"
     ]
    }
   ],
   "source": [
    "t = tree.DecisionTreeClassifier(criterion='gini', max_depth=80, min_samples_split=10,\n",
    "                                  min_samples_leaf =6,min_weight_fraction_leaf=0.0, \n",
    "                                  random_state=None, max_leaf_nodes=200,class_weight=None)\n",
    "\n",
    "y_pred = t.fit(X_train, y_train).predict(X_train)\n",
    "print(\"error rate {0}\".format(1-(y_train != y_pred).sum()/y_pred.shape[0] ))\n",
    "y_pred = t.predict(X_test)\n",
    "print(\"error rate {0}\".format(1-(y_test != y_pred).sum()/y_test.shape[0] ))"
   ]
  },
  {
   "cell_type": "code",
   "execution_count": 14,
   "metadata": {},
   "outputs": [
    {
     "name": "stdout",
     "output_type": "stream",
     "text": [
      "error rate 0.9226294357184409\n",
      "error rate 0.5697674418604651\n"
     ]
    }
   ],
   "source": [
    "t = tree.DecisionTreeClassifier(criterion='gini', max_depth=80, min_samples_split=2,\n",
    "                                  min_samples_leaf =2,min_weight_fraction_leaf=0.0, \n",
    "                                  random_state=None, max_leaf_nodes=200,class_weight=None)\n",
    "\n",
    "y_pred = t.fit(X_train, y_train).predict(X_train)\n",
    "print(\"error rate {0}\".format(1-(y_train != y_pred).sum()/y_pred.shape[0] ))\n",
    "y_pred = t.predict(X_test)\n",
    "print(\"error rate {0}\".format(1-(y_test != y_pred).sum()/y_test.shape[0] ))"
   ]
  },
  {
   "cell_type": "code",
   "execution_count": 15,
   "metadata": {},
   "outputs": [],
   "source": [
    "data = pd.read_csv('./news/news_test.csv',header=None)\n",
    "testing_data,testing_label = data[list(range(23909))].values,data[(23909)].values.astype(np.int)"
   ]
  },
  {
   "cell_type": "code",
   "execution_count": 16,
   "metadata": {},
   "outputs": [
    {
     "name": "stdout",
     "output_type": "stream",
     "text": [
      "error rate 0.5818181818181818\n"
     ]
    }
   ],
   "source": [
    "y_pred = t.predict(testing_data)\n",
    "print(\"error rate {0}\".format(1-(testing_label != y_pred).sum()/testing_label.shape[0] ))"
   ]
  },
  {
   "cell_type": "code",
   "execution_count": 18,
   "metadata": {},
   "outputs": [
    {
     "name": "stdout",
     "output_type": "stream",
     "text": [
      "error rate 0.8915774778966962\n",
      "error rate 0.6125874125874126\n"
     ]
    }
   ],
   "source": [
    "t = tree.DecisionTreeClassifier(criterion='gini', max_depth=80, min_samples_split=2,\n",
    "                                  min_samples_leaf =2,min_weight_fraction_leaf=0.0, \n",
    "                                  random_state=None, max_leaf_nodes=200,class_weight=None)\n",
    "\n",
    "y_pred = t.fit(training_data, training_label).predict(training_data)\n",
    "print(\"error rate {0}\".format((training_label == y_pred).sum()/training_data.shape[0] ))\n",
    "\n",
    "y_pred = t.predict(testing_data)\n",
    "print(\"error rate {0}\".format((testing_label == y_pred).sum()/testing_label.shape[0] ))"
   ]
  },
  {
   "cell_type": "code",
   "execution_count": 29,
   "metadata": {},
   "outputs": [
    {
     "name": "stdout",
     "output_type": "stream",
     "text": [
      "error rate 0.8041958041958042\n",
      "error rate 0.813986013986014\n",
      "error rate 0.8636363636363636\n",
      "error rate 0.7657342657342657\n"
     ]
    }
   ],
   "source": [
    "y_pred = gnb.predict(testing_data)\n",
    "print(\"error rate {0}\".format(1-(testing_label != y_pred).sum()/testing_label.shape[0] ))\n",
    "\n",
    "y_pred = mnb.predict(testing_data)\n",
    "print(\"error rate {0}\".format(1-(testing_label != y_pred).sum()/testing_label.shape[0] ))\n",
    "\n",
    "y_pred = cnb.predict(testing_data)\n",
    "print(\"error rate {0}\".format(1-(testing_label != y_pred).sum()/testing_label.shape[0] ))\n",
    "\n",
    "y_pred = bnb.predict(testing_data)\n",
    "print(\"error rate {0}\".format(1-(testing_label != y_pred).sum()/testing_label.shape[0] ))"
   ]
  },
  {
   "cell_type": "code",
   "execution_count": null,
   "metadata": {},
   "outputs": [],
   "source": []
  }
 ],
 "metadata": {
  "kernelspec": {
   "display_name": "Python 3",
   "language": "python",
   "name": "python3"
  },
  "language_info": {
   "codemirror_mode": {
    "name": "ipython",
    "version": 3
   },
   "file_extension": ".py",
   "mimetype": "text/x-python",
   "name": "python",
   "nbconvert_exporter": "python",
   "pygments_lexer": "ipython3",
   "version": "3.6.6"
  }
 },
 "nbformat": 4,
 "nbformat_minor": 2
}
